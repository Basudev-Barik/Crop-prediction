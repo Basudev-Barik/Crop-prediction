{
 "cells": [
  {
   "cell_type": "code",
   "execution_count": 1,
   "metadata": {},
   "outputs": [],
   "source": [
    "#importing the required libraries\n",
    "import pandas as pd\n",
    "import numpy as np\n",
    "from sklearn.model_selection import train_test_split"
   ]
  },
  {
   "cell_type": "code",
   "execution_count": 2,
   "metadata": {},
   "outputs": [
    {
     "name": "stdout",
     "output_type": "stream",
     "text": [
      "   temperature   humidity        ph    rainfall label\n",
      "0    20.879744  82.002744  6.502985  202.935536  rice\n",
      "1    21.770462  80.319644  7.038096  226.655537  rice\n",
      "2    23.004459  82.320763  7.840207  263.964248  rice\n",
      "3    26.491096  80.158363  6.980401  242.864034  rice\n",
      "4    20.130175  81.604873  7.628473  262.717340  rice\n",
      "5    23.058049  83.370118  7.073454  251.055000  rice\n",
      "6    22.708838  82.639414  5.700806  271.324860  rice\n",
      "7    20.277744  82.894086  5.718627  241.974195  rice\n",
      "8    24.515881  83.535216  6.685346  230.446236  rice\n",
      "9    23.223974  83.033227  6.336254  221.209196  rice\n"
     ]
    }
   ],
   "source": [
    "data=pd.read_csv('crop_prediction.csv')\n",
    "print(data.head(10))"
   ]
  },
  {
   "cell_type": "code",
   "execution_count": 3,
   "metadata": {},
   "outputs": [],
   "source": [
    "#data.label.unique()"
   ]
  },
  {
   "cell_type": "code",
   "execution_count": 4,
   "metadata": {},
   "outputs": [
    {
     "data": {
      "text/plain": [
       "(3100, 5)"
      ]
     },
     "execution_count": 4,
     "metadata": {},
     "output_type": "execute_result"
    }
   ],
   "source": [
    "# Get the count of rows and columns\n",
    "data.shape"
   ]
  },
  {
   "cell_type": "code",
   "execution_count": 5,
   "metadata": {},
   "outputs": [
    {
     "data": {
      "text/plain": [
       "Rubber          100\n",
       "Peas            100\n",
       "Pigeon Peas     100\n",
       "Ground Nut      100\n",
       "wheat           100\n",
       "rice            100\n",
       "pomegranate     100\n",
       "muskmelon       100\n",
       "Coconut         100\n",
       "Kidney Beans    100\n",
       "Chickpea        100\n",
       "Cotton          100\n",
       "Jute            100\n",
       "Adzuki Beans    100\n",
       "Moth Beans      100\n",
       "banana          100\n",
       "millet          100\n",
       "Black gram      100\n",
       "grapes          100\n",
       "watermelon      100\n",
       "apple           100\n",
       "Coffee          100\n",
       "Tea             100\n",
       "Mung Bean       100\n",
       "Lentil          100\n",
       "Sugarcane       100\n",
       "papaya          100\n",
       "Tobacco         100\n",
       "maize           100\n",
       "mango           100\n",
       "orange          100\n",
       "Name: label, dtype: int64"
      ]
     },
     "execution_count": 5,
     "metadata": {},
     "output_type": "execute_result"
    }
   ],
   "source": [
    "data.label.value_counts()"
   ]
  },
  {
   "cell_type": "code",
   "execution_count": 6,
   "metadata": {},
   "outputs": [
    {
     "data": {
      "text/plain": [
       "temperature    float64\n",
       "humidity       float64\n",
       "ph             float64\n",
       "rainfall       float64\n",
       "label           object\n",
       "dtype: object"
      ]
     },
     "execution_count": 6,
     "metadata": {},
     "output_type": "execute_result"
    }
   ],
   "source": [
    "data.dtypes"
   ]
  },
  {
   "cell_type": "code",
   "execution_count": 7,
   "metadata": {},
   "outputs": [
    {
     "data": {
      "text/html": [
       "<div>\n",
       "<style scoped>\n",
       "    .dataframe tbody tr th:only-of-type {\n",
       "        vertical-align: middle;\n",
       "    }\n",
       "\n",
       "    .dataframe tbody tr th {\n",
       "        vertical-align: top;\n",
       "    }\n",
       "\n",
       "    .dataframe thead th {\n",
       "        text-align: right;\n",
       "    }\n",
       "</style>\n",
       "<table border=\"1\" class=\"dataframe\">\n",
       "  <thead>\n",
       "    <tr style=\"text-align: right;\">\n",
       "      <th></th>\n",
       "      <th>temperature</th>\n",
       "      <th>humidity</th>\n",
       "      <th>ph</th>\n",
       "      <th>rainfall</th>\n",
       "    </tr>\n",
       "  </thead>\n",
       "  <tbody>\n",
       "    <tr>\n",
       "      <th>count</th>\n",
       "      <td>3100.000000</td>\n",
       "      <td>3100.000000</td>\n",
       "      <td>3100.000000</td>\n",
       "      <td>3100.000000</td>\n",
       "    </tr>\n",
       "    <tr>\n",
       "      <th>mean</th>\n",
       "      <td>27.108466</td>\n",
       "      <td>66.005312</td>\n",
       "      <td>6.368913</td>\n",
       "      <td>110.213031</td>\n",
       "    </tr>\n",
       "    <tr>\n",
       "      <th>std</th>\n",
       "      <td>7.566308</td>\n",
       "      <td>24.007713</td>\n",
       "      <td>0.809477</td>\n",
       "      <td>64.048562</td>\n",
       "    </tr>\n",
       "    <tr>\n",
       "      <th>min</th>\n",
       "      <td>8.825675</td>\n",
       "      <td>10.034048</td>\n",
       "      <td>3.504752</td>\n",
       "      <td>20.211267</td>\n",
       "    </tr>\n",
       "    <tr>\n",
       "      <th>25%</th>\n",
       "      <td>22.810495</td>\n",
       "      <td>55.244920</td>\n",
       "      <td>5.895343</td>\n",
       "      <td>64.909095</td>\n",
       "    </tr>\n",
       "    <tr>\n",
       "      <th>50%</th>\n",
       "      <td>26.102848</td>\n",
       "      <td>68.980529</td>\n",
       "      <td>6.342518</td>\n",
       "      <td>97.057093</td>\n",
       "    </tr>\n",
       "    <tr>\n",
       "      <th>75%</th>\n",
       "      <td>29.365644</td>\n",
       "      <td>84.446524</td>\n",
       "      <td>6.841616</td>\n",
       "      <td>141.210784</td>\n",
       "    </tr>\n",
       "    <tr>\n",
       "      <th>max</th>\n",
       "      <td>54.986760</td>\n",
       "      <td>99.981876</td>\n",
       "      <td>9.935091</td>\n",
       "      <td>397.315380</td>\n",
       "    </tr>\n",
       "  </tbody>\n",
       "</table>\n",
       "</div>"
      ],
      "text/plain": [
       "       temperature     humidity           ph     rainfall\n",
       "count  3100.000000  3100.000000  3100.000000  3100.000000\n",
       "mean     27.108466    66.005312     6.368913   110.213031\n",
       "std       7.566308    24.007713     0.809477    64.048562\n",
       "min       8.825675    10.034048     3.504752    20.211267\n",
       "25%      22.810495    55.244920     5.895343    64.909095\n",
       "50%      26.102848    68.980529     6.342518    97.057093\n",
       "75%      29.365644    84.446524     6.841616   141.210784\n",
       "max      54.986760    99.981876     9.935091   397.315380"
      ]
     },
     "execution_count": 7,
     "metadata": {},
     "output_type": "execute_result"
    }
   ],
   "source": [
    "data.describe()"
   ]
  },
  {
   "cell_type": "code",
   "execution_count": 8,
   "metadata": {},
   "outputs": [
    {
     "data": {
      "text/plain": [
       "'cleanup_nums = {\"label\":     {\\'rice\\':0, \\'wheat\\':1, \\'Mung Bean\\':2, \\'Tea\\':3, \\'millet\\':4, \\'maize\\':5, \\'Lentil\\':6,\\n       \\'Jute\\':7, \\'Coffee\\':8, \\'Cotton\\':9, \\'Ground Nut\\':10, \\'Peas\\':11, \\'Rubber\\':12,\\n       \\'Sugarcane\\':13, \\'Tobacco\\':14, \\'Kidney Beans\\':15, \\'Moth Beans\\':16, \\'Coconut\\':17,\\n       \\'Black gram\\':18, \\'Adzuki Beans\\':19, \\'Pigeon Peas\\':20, \\'Chickpea\\':21, \\'banana\\':22,\\n       \\'grapes\\':23, \\'apple\\':24, \\'mango\\':25, \\'muskmelon\\':26, \\'orange\\':27, \\'papaya\\':28,\\n       \\'pomegranate\\':29, \\'watermelon\\':30}}\\ndata.replace(cleanup_nums, inplace=True)\\ndata.head(10)'"
      ]
     },
     "execution_count": 8,
     "metadata": {},
     "output_type": "execute_result"
    }
   ],
   "source": [
    "'''cleanup_nums = {\"label\":     {'rice':0, 'wheat':1, 'Mung Bean':2, 'Tea':3, 'millet':4, 'maize':5, 'Lentil':6,\n",
    "       'Jute':7, 'Coffee':8, 'Cotton':9, 'Ground Nut':10, 'Peas':11, 'Rubber':12,\n",
    "       'Sugarcane':13, 'Tobacco':14, 'Kidney Beans':15, 'Moth Beans':16, 'Coconut':17,\n",
    "       'Black gram':18, 'Adzuki Beans':19, 'Pigeon Peas':20, 'Chickpea':21, 'banana':22,\n",
    "       'grapes':23, 'apple':24, 'mango':25, 'muskmelon':26, 'orange':27, 'papaya':28,\n",
    "       'pomegranate':29, 'watermelon':30}}\n",
    "data.replace(cleanup_nums, inplace=True)\n",
    "data.head(10)'''"
   ]
  },
  {
   "cell_type": "code",
   "execution_count": 9,
   "metadata": {},
   "outputs": [],
   "source": [
    "# Split the data into independent 'X' and dependent 'y'.\n",
    "X=data.iloc[:, 0:4].values\n",
    "y=data.iloc[: ,4].values"
   ]
  },
  {
   "cell_type": "code",
   "execution_count": 16,
   "metadata": {},
   "outputs": [
    {
     "ename": "NameError",
     "evalue": "name 'x' is not defined",
     "output_type": "error",
     "traceback": [
      "\u001b[1;31m---------------------------------------------------------------------------\u001b[0m",
      "\u001b[1;31mNameError\u001b[0m                                 Traceback (most recent call last)",
      "\u001b[1;32m<ipython-input-16-84c04bd9d13d>\u001b[0m in \u001b[0;36m<module>\u001b[1;34m\u001b[0m\n\u001b[0;32m      2\u001b[0m \u001b[1;32mfrom\u001b[0m \u001b[0msklearn\u001b[0m\u001b[1;33m.\u001b[0m\u001b[0mpreprocessing\u001b[0m \u001b[1;32mimport\u001b[0m \u001b[0mLabelEncoder\u001b[0m\u001b[1;33m,\u001b[0m\u001b[0mOneHotEncoder\u001b[0m\u001b[1;33m\u001b[0m\u001b[1;33m\u001b[0m\u001b[0m\n\u001b[0;32m      3\u001b[0m \u001b[0mlabelencoder\u001b[0m\u001b[1;33m=\u001b[0m\u001b[0mLabelEncoder\u001b[0m\u001b[1;33m(\u001b[0m\u001b[1;33m)\u001b[0m\u001b[1;33m\u001b[0m\u001b[1;33m\u001b[0m\u001b[0m\n\u001b[1;32m----> 4\u001b[1;33m \u001b[0mx\u001b[0m\u001b[1;33m[\u001b[0m\u001b[1;33m:\u001b[0m\u001b[1;33m,\u001b[0m \u001b[1;36m3\u001b[0m\u001b[1;33m]\u001b[0m\u001b[1;33m=\u001b[0m\u001b[0mlabelencoder\u001b[0m\u001b[1;33m.\u001b[0m\u001b[0mfit_transform\u001b[0m\u001b[1;33m(\u001b[0m\u001b[0mx\u001b[0m\u001b[1;33m[\u001b[0m\u001b[1;33m:\u001b[0m\u001b[1;33m,\u001b[0m \u001b[1;36m3\u001b[0m\u001b[1;33m]\u001b[0m\u001b[1;33m)\u001b[0m\u001b[1;33m\u001b[0m\u001b[1;33m\u001b[0m\u001b[0m\n\u001b[0m\u001b[0;32m      5\u001b[0m \u001b[1;33m\u001b[0m\u001b[0m\n\u001b[0;32m      6\u001b[0m \u001b[0monehotencoder\u001b[0m\u001b[1;33m=\u001b[0m\u001b[0mOneHotEncoder\u001b[0m\u001b[1;33m(\u001b[0m\u001b[0mcatagorical_features\u001b[0m\u001b[1;33m=\u001b[0m\u001b[1;33m[\u001b[0m\u001b[1;36m3\u001b[0m\u001b[1;33m]\u001b[0m\u001b[1;33m)\u001b[0m\u001b[1;33m\u001b[0m\u001b[1;33m\u001b[0m\u001b[0m\n",
      "\u001b[1;31mNameError\u001b[0m: name 'x' is not defined"
     ]
    }
   ],
   "source": [
    "# Encoding categorical data\n",
    "from sklearn.preprocessing import LabelEncoder,OneHotEncoder\n",
    "labelencoder=LabelEncoder()\n",
    "x[:, 3]=labelencoder.fit_transform(x[:, 3])\n",
    "\n",
    "onehotencoder=OneHotEncoder(catagorical_features=[3])\n",
    "x=onehotencoder.fit_transform(x).toarray()"
   ]
  },
  {
   "cell_type": "code",
   "execution_count": null,
   "metadata": {},
   "outputs": [],
   "source": [
    "\n",
    "#Dividing the data into training and test set\n",
    "X_train,X_test,y_train,y_test=train_test_split(X,y,test_size=0.3)"
   ]
  },
  {
   "cell_type": "code",
   "execution_count": null,
   "metadata": {},
   "outputs": [],
   "source": [
    "from sklearn.preprocessing import StandardScaler\n",
    "sc = StandardScaler()\n",
    "X_train = sc.fit_transform(X_train)\n",
    "X_test = sc.transform(X_test)"
   ]
  },
  {
   "cell_type": "code",
   "execution_count": null,
   "metadata": {},
   "outputs": [],
   "source": [
    "X_train"
   ]
  },
  {
   "cell_type": "code",
   "execution_count": null,
   "metadata": {},
   "outputs": [],
   "source": [
    "#Using Logistic Regression Algorithm to the Training Set\n",
    "from sklearn.linear_model import LogisticRegression\n",
    "log = LogisticRegression()"
   ]
  },
  {
   "cell_type": "code",
   "execution_count": null,
   "metadata": {},
   "outputs": [],
   "source": [
    "#Fitting the classifier into training set\n",
    "log.fit(X_train,y_train)\n",
    "pred=log.predict(X_test)"
   ]
  },
  {
   "cell_type": "code",
   "execution_count": null,
   "metadata": {},
   "outputs": [],
   "source": [
    "from sklearn.metrics import accuracy_score\n",
    "# Finding the accuracy of the model\n",
    "a=accuracy_score(y_test,pred)\n",
    "print(\"The accuracy of this model is: \", a*100)"
   ]
  },
  {
   "cell_type": "code",
   "execution_count": null,
   "metadata": {},
   "outputs": [],
   "source": [
    "ran_data = [20,82,6.5,202]\n",
    "ran_data_arr = np.array(ran_data)\n",
    "ran_data_num = ran_data_arr.reshape(1,-1)\n",
    "pred_single_row = log.predict(ran_data_num)\n",
    "print(pred_single_row)"
   ]
  },
  {
   "cell_type": "code",
   "execution_count": null,
   "metadata": {},
   "outputs": [],
   "source": [
    "import sklearn.externals\n",
    "import joblib\n",
    "joblib.dump(log,\"crop_prediction.pkl\")"
   ]
  },
  {
   "cell_type": "code",
   "execution_count": null,
   "metadata": {},
   "outputs": [],
   "source": []
  }
 ],
 "metadata": {
  "kernelspec": {
   "display_name": "Python 3",
   "language": "python",
   "name": "python3"
  },
  "language_info": {
   "codemirror_mode": {
    "name": "ipython",
    "version": 3
   },
   "file_extension": ".py",
   "mimetype": "text/x-python",
   "name": "python",
   "nbconvert_exporter": "python",
   "pygments_lexer": "ipython3",
   "version": "3.7.3"
  }
 },
 "nbformat": 4,
 "nbformat_minor": 4
}
